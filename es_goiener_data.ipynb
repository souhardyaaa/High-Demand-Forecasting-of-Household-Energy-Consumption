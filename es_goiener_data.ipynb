{
 "cells": [
  {
   "cell_type": "code",
   "execution_count": 11,
   "metadata": {},
   "outputs": [],
   "source": [
    "import pandas as pd\n",
    "import numpy as np"
   ]
  },
  {
   "cell_type": "code",
   "execution_count": 15,
   "metadata": {},
   "outputs": [
    {
     "data": {
      "text/html": [
       "<div>\n",
       "<style scoped>\n",
       "    .dataframe tbody tr th:only-of-type {\n",
       "        vertical-align: middle;\n",
       "    }\n",
       "\n",
       "    .dataframe tbody tr th {\n",
       "        vertical-align: top;\n",
       "    }\n",
       "\n",
       "    .dataframe thead th {\n",
       "        text-align: right;\n",
       "    }\n",
       "</style>\n",
       "<table border=\"1\" class=\"dataframe\">\n",
       "  <thead>\n",
       "    <tr style=\"text-align: right;\">\n",
       "      <th></th>\n",
       "      <th>timestamp</th>\n",
       "      <th>kWh</th>\n",
       "      <th>imputed</th>\n",
       "    </tr>\n",
       "  </thead>\n",
       "  <tbody>\n",
       "    <tr>\n",
       "      <th>0</th>\n",
       "      <td>2020-03-01 00:00:00</td>\n",
       "      <td>0.0</td>\n",
       "      <td>0</td>\n",
       "    </tr>\n",
       "    <tr>\n",
       "      <th>1</th>\n",
       "      <td>2020-03-01 01:00:00</td>\n",
       "      <td>0.0</td>\n",
       "      <td>0</td>\n",
       "    </tr>\n",
       "    <tr>\n",
       "      <th>2</th>\n",
       "      <td>2020-03-01 02:00:00</td>\n",
       "      <td>0.0</td>\n",
       "      <td>0</td>\n",
       "    </tr>\n",
       "    <tr>\n",
       "      <th>3</th>\n",
       "      <td>2020-03-01 03:00:00</td>\n",
       "      <td>0.0</td>\n",
       "      <td>0</td>\n",
       "    </tr>\n",
       "    <tr>\n",
       "      <th>4</th>\n",
       "      <td>2020-03-01 04:00:00</td>\n",
       "      <td>0.0</td>\n",
       "      <td>0</td>\n",
       "    </tr>\n",
       "  </tbody>\n",
       "</table>\n",
       "</div>"
      ],
      "text/plain": [
       "             timestamp  kWh  imputed\n",
       "0  2020-03-01 00:00:00  0.0        0\n",
       "1  2020-03-01 01:00:00  0.0        0\n",
       "2  2020-03-01 02:00:00  0.0        0\n",
       "3  2020-03-01 03:00:00  0.0        0\n",
       "4  2020-03-01 04:00:00  0.0        0"
      ]
     },
     "execution_count": 15,
     "metadata": {},
     "output_type": "execute_result"
    }
   ],
   "source": [
    "df = pd.read_csv(\"C:/Users/souha/Downloads/imp-in/goi4_in/imp_csv/fcccb67d2cac6a8104fa58b5fbd650076e3c3848b16429ffaf871266c8675056.csv\")\n",
    "df.head()"
   ]
  },
  {
   "cell_type": "code",
   "execution_count": 16,
   "metadata": {},
   "outputs": [
    {
     "data": {
      "text/plain": [
       "(10945, 3)"
      ]
     },
     "execution_count": 16,
     "metadata": {},
     "output_type": "execute_result"
    }
   ],
   "source": [
    "df.shape"
   ]
  },
  {
   "cell_type": "code",
   "execution_count": 17,
   "metadata": {},
   "outputs": [
    {
     "data": {
      "text/html": [
       "<div>\n",
       "<style scoped>\n",
       "    .dataframe tbody tr th:only-of-type {\n",
       "        vertical-align: middle;\n",
       "    }\n",
       "\n",
       "    .dataframe tbody tr th {\n",
       "        vertical-align: top;\n",
       "    }\n",
       "\n",
       "    .dataframe thead th {\n",
       "        text-align: right;\n",
       "    }\n",
       "</style>\n",
       "<table border=\"1\" class=\"dataframe\">\n",
       "  <thead>\n",
       "    <tr style=\"text-align: right;\">\n",
       "      <th></th>\n",
       "      <th>kWh</th>\n",
       "      <th>imputed</th>\n",
       "    </tr>\n",
       "    <tr>\n",
       "      <th>timestamp</th>\n",
       "      <th></th>\n",
       "      <th></th>\n",
       "    </tr>\n",
       "  </thead>\n",
       "  <tbody>\n",
       "    <tr>\n",
       "      <th>2020-03-01 00:00:00</th>\n",
       "      <td>0.0</td>\n",
       "      <td>0</td>\n",
       "    </tr>\n",
       "    <tr>\n",
       "      <th>2020-03-01 01:00:00</th>\n",
       "      <td>0.0</td>\n",
       "      <td>0</td>\n",
       "    </tr>\n",
       "    <tr>\n",
       "      <th>2020-03-01 02:00:00</th>\n",
       "      <td>0.0</td>\n",
       "      <td>0</td>\n",
       "    </tr>\n",
       "    <tr>\n",
       "      <th>2020-03-01 03:00:00</th>\n",
       "      <td>0.0</td>\n",
       "      <td>0</td>\n",
       "    </tr>\n",
       "    <tr>\n",
       "      <th>2020-03-01 04:00:00</th>\n",
       "      <td>0.0</td>\n",
       "      <td>0</td>\n",
       "    </tr>\n",
       "  </tbody>\n",
       "</table>\n",
       "</div>"
      ],
      "text/plain": [
       "                     kWh  imputed\n",
       "timestamp                        \n",
       "2020-03-01 00:00:00  0.0        0\n",
       "2020-03-01 01:00:00  0.0        0\n",
       "2020-03-01 02:00:00  0.0        0\n",
       "2020-03-01 03:00:00  0.0        0\n",
       "2020-03-01 04:00:00  0.0        0"
      ]
     },
     "execution_count": 17,
     "metadata": {},
     "output_type": "execute_result"
    }
   ],
   "source": [
    "df.set_index('timestamp', inplace=True)\n",
    "df.head()"
   ]
  },
  {
   "cell_type": "code",
   "execution_count": null,
   "metadata": {},
   "outputs": [],
   "source": [
    "df.sort_index(inplace=True)\n",
    "df.head()"
   ]
  },
  {
   "cell_type": "code",
   "execution_count": 18,
   "metadata": {},
   "outputs": [],
   "source": [
    "import plotly.express as px\n",
    "\n",
    "# Plot the time series where the index is the timestamp\n",
    "fig = px.line(\n",
    "    df,\n",
    "    x=df.index,  # Using the DateTimeIndex\n",
    "    y='kWh',\n",
    "    title=f\"Time Series of kWh\",\n",
    "    labels={'x': 'Timestamp', 'kWh': 'Energy Consumption (kWh)'},\n",
    "    color_discrete_sequence=['#204251']\n",
    ")\n",
    "fig.show(renderer='browser')"
   ]
  },
  {
   "cell_type": "code",
   "execution_count": 19,
   "metadata": {},
   "outputs": [
    {
     "name": "stdout",
     "output_type": "stream",
     "text": [
      "           timestamp    kWh  imputed  \\\n",
      "0         2020-03-01  0.028        0   \n",
      "125446256 2020-03-01  0.126        0   \n",
      "125457201 2020-03-01  1.263        0   \n",
      "12679172  2020-03-01  0.156        0   \n",
      "125468146 2020-03-01  0.451        0   \n",
      "\n",
      "                                                 customer_id  \n",
      "0          0001b3b2f18c01c62ed9b2a87de7b4e33e7836f786f790...  \n",
      "125446256  bd24f46f1a24c336e90e2660330736c7990bf7c380c102...  \n",
      "125457201  bd2595358b526820ddc4b9027092f87fbe2ea12815ca3b...  \n",
      "12679172   13fb362e40f99d21ae976ffac9ee249bedc28a2bc92244...  \n",
      "125468146  bd2698fec245ace9ef47a6ecc0fa73a92acccc313b9848...  \n"
     ]
    }
   ],
   "source": [
    "import os\n",
    "import glob\n",
    "import pandas as pd\n",
    "\n",
    "# Define the path to the folder containing the csv files\n",
    "folder_path = r\"C:/Users/souha/Downloads/imp-in/goi4_in/imp_csv\"\n",
    "\n",
    "# Use glob to get a list of all CSV files in the folder\n",
    "csv_files = glob.glob(os.path.join(folder_path, \"*.csv\"))\n",
    "\n",
    "# Initialize a list to hold DataFrames from each file\n",
    "list_of_dfs = []\n",
    "\n",
    "# Loop over CSV files, read them, convert timestamps, and add the customer_id column\n",
    "for file in csv_files:\n",
    "    # Extract customer_id from file name (assuming the file name is the 64-character ID)\n",
    "    customer_id = os.path.splitext(os.path.basename(file))[0]\n",
    "    \n",
    "    # Read the CSV file (assuming a standard comma separator)\n",
    "    df_temp = pd.read_csv(file)\n",
    "    \n",
    "    # Convert the timestamp to datetime\n",
    "    df_temp['timestamp'] = pd.to_datetime(df_temp['timestamp'])\n",
    "    \n",
    "    # Add a column for customer id\n",
    "    df_temp['customer_id'] = customer_id\n",
    "    \n",
    "    # Append this DataFrame to the list\n",
    "    list_of_dfs.append(df_temp)\n",
    "\n",
    "# Concatenate all the DataFrames into one\n",
    "combined_df = pd.concat(list_of_dfs, ignore_index=True)\n",
    "\n",
    "# Optionally, sort the combined DataFrame by timestamp\n",
    "combined_df.sort_values('timestamp', inplace=True)\n",
    "\n",
    "# Quick check on the resulting DataFrame\n",
    "print(combined_df.head())\n"
   ]
  }
 ],
 "metadata": {
  "kernelspec": {
   "display_name": "myenv1",
   "language": "python",
   "name": "python3"
  },
  "language_info": {
   "codemirror_mode": {
    "name": "ipython",
    "version": 3
   },
   "file_extension": ".py",
   "mimetype": "text/x-python",
   "name": "python",
   "nbconvert_exporter": "python",
   "pygments_lexer": "ipython3",
   "version": "3.11.11"
  }
 },
 "nbformat": 4,
 "nbformat_minor": 2
}
