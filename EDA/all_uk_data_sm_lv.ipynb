{
 "cells": [
  {
   "cell_type": "code",
   "execution_count": 1,
   "id": "ddca60d2",
   "metadata": {},
   "outputs": [
    {
     "data": {
      "text/plain": [
       "<Axes: >"
      ]
     },
     "execution_count": 1,
     "metadata": {},
     "output_type": "execute_result"
    },
    {
     "data": {
      "image/png": "[encoded data removed]",
      "text/plain": [
       "<Figure size 640x480 with 1 Axes>"
      ]
     },
     "metadata": {},
     "output_type": "display_data"
    }
   ],
   "source": [
    "import pandas as pd\n",
    "import numpy as np\n",
    "import geopandas\n",
    "\n",
    "\n",
    "df = geopandas.read_parquet(\n",
    "    \"s3://weave.energy/smart-meter\", \n",
    "    filters=[(\"data_collection_log_timestamp\", \"==\", pd.Timestamp(\"2024-07-14T20:00:00Z\"))])\n",
    "\n",
    "df = df[df[\"total_consumption_active_import\"] > 200]\n",
    "\n",
    "df.plot(column=\"total_consumption_active_import\")"
   ]
  },
  {
   "cell_type": "code",
   "execution_count": 2,
   "id": "81ffa37b",
   "metadata": {},
   "outputs": [
    {
     "data": {
      "text/html": [
       "<div>\n",
       "<style scoped>\n",
       "    .dataframe tbody tr th:only-of-type {\n",
       "        vertical-align: middle;\n",
       "    }\n",
       "\n",
       "    .dataframe tbody tr th {\n",
       "        vertical-align: top;\n",
       "    }\n",
       "\n",
       "    .dataframe thead th {\n",
       "        text-align: right;\n",
       "    }\n",
       "</style>\n",
       "<table border=\"1\" class=\"dataframe\">\n",
       "  <thead>\n",
       "    <tr style=\"text-align: right;\">\n",
       "      <th></th>\n",
       "      <th>dataset_id</th>\n",
       "      <th>dno_alias</th>\n",
       "      <th>aggregated_device_count_active</th>\n",
       "      <th>total_consumption_active_import</th>\n",
       "      <th>data_collection_log_timestamp</th>\n",
       "      <th>geometry</th>\n",
       "      <th>secondary_substation_unique_id</th>\n",
       "      <th>lv_feeder_unique_id</th>\n",
       "    </tr>\n",
       "  </thead>\n",
       "  <tbody>\n",
       "    <tr>\n",
       "      <th>0</th>\n",
       "      <td>NGED_110191_11_Jul_2024</td>\n",
       "      <td>NGED</td>\n",
       "      <td>26.0</td>\n",
       "      <td>7693.0</td>\n",
       "      <td>2024-07-14 20:00:00+00:00</td>\n",
       "      <td>POINT (-2.5715 51.4262)</td>\n",
       "      <td>NGED-110191</td>\n",
       "      <td>NGED-110191-11</td>\n",
       "    </tr>\n",
       "    <tr>\n",
       "      <th>1</th>\n",
       "      <td>NGED_110191_21_Jul_2024</td>\n",
       "      <td>NGED</td>\n",
       "      <td>28.0</td>\n",
       "      <td>4135.0</td>\n",
       "      <td>2024-07-14 20:00:00+00:00</td>\n",
       "      <td>POINT (-2.5715 51.4262)</td>\n",
       "      <td>NGED-110191</td>\n",
       "      <td>NGED-110191-21</td>\n",
       "    </tr>\n",
       "    <tr>\n",
       "      <th>2</th>\n",
       "      <td>NGED_110191_22_Jul_2024</td>\n",
       "      <td>NGED</td>\n",
       "      <td>11.0</td>\n",
       "      <td>1920.0</td>\n",
       "      <td>2024-07-14 20:00:00+00:00</td>\n",
       "      <td>POINT (-2.5715 51.4262)</td>\n",
       "      <td>NGED-110191</td>\n",
       "      <td>NGED-110191-22</td>\n",
       "    </tr>\n",
       "    <tr>\n",
       "      <th>3</th>\n",
       "      <td>NGED_110191_31_Jul_2024</td>\n",
       "      <td>NGED</td>\n",
       "      <td>23.0</td>\n",
       "      <td>4547.0</td>\n",
       "      <td>2024-07-14 20:00:00+00:00</td>\n",
       "      <td>POINT (-2.5715 51.4262)</td>\n",
       "      <td>NGED-110191</td>\n",
       "      <td>NGED-110191-31</td>\n",
       "    </tr>\n",
       "    <tr>\n",
       "      <th>4</th>\n",
       "      <td>NGED_110191_42_Jul_2024</td>\n",
       "      <td>NGED</td>\n",
       "      <td>24.0</td>\n",
       "      <td>3412.0</td>\n",
       "      <td>2024-07-14 20:00:00+00:00</td>\n",
       "      <td>POINT (-2.5715 51.4262)</td>\n",
       "      <td>NGED-110191</td>\n",
       "      <td>NGED-110191-42</td>\n",
       "    </tr>\n",
       "  </tbody>\n",
       "</table>\n",
       "</div>"
      ],
      "text/plain": [
       "                dataset_id dno_alias  aggregated_device_count_active  \\\n",
       "0  NGED_110191_11_Jul_2024      NGED                            26.0   \n",
       "1  NGED_110191_21_Jul_2024      NGED                            28.0   \n",
       "2  NGED_110191_22_Jul_2024      NGED                            11.0   \n",
       "3  NGED_110191_31_Jul_2024      NGED                            23.0   \n",
       "4  NGED_110191_42_Jul_2024      NGED                            24.0   \n",
       "\n",
       "   total_consumption_active_import data_collection_log_timestamp  \\\n",
       "0                           7693.0     2024-07-14 20:00:00+00:00   \n",
       "1                           4135.0     2024-07-14 20:00:00+00:00   \n",
       "2                           1920.0     2024-07-14 20:00:00+00:00   \n",
       "3                           4547.0     2024-07-14 20:00:00+00:00   \n",
       "4                           3412.0     2024-07-14 20:00:00+00:00   \n",
       "\n",
       "                  geometry secondary_substation_unique_id lv_feeder_unique_id  \n",
       "0  POINT (-2.5715 51.4262)                    NGED-110191      NGED-110191-11  \n",
       "1  POINT (-2.5715 51.4262)                    NGED-110191      NGED-110191-21  \n",
       "2  POINT (-2.5715 51.4262)                    NGED-110191      NGED-110191-22  \n",
       "3  POINT (-2.5715 51.4262)                    NGED-110191      NGED-110191-31  \n",
       "4  POINT (-2.5715 51.4262)                    NGED-110191      NGED-110191-42  "
      ]
     },
     "execution_count": 2,
     "metadata": {},
     "output_type": "execute_result"
    }
   ],
   "source": [
    "df.head()"
   ]
  },
  {
   "cell_type": "code",
   "execution_count": 8,
   "id": "15aa7829",
   "metadata": {},
   "outputs": [
    {
     "data": {
      "text/plain": [
       "dno_alias\n",
       "SSEN    60567\n",
       "NGED    22520\n",
       "Name: count, dtype: int64"
      ]
     },
     "execution_count": 8,
     "metadata": {},
     "output_type": "execute_result"
    }
   ],
   "source": [
    "df['dno_alias'].value_counts()"
   ]
  },
  {
   "cell_type": "code",
   "execution_count": 11,
   "id": "e885a974",
   "metadata": {},
   "outputs": [
    {
     "data": {
      "text/plain": [
       "lv_feeder_unique_id\n",
       "SSEN-890009900501    1\n",
       "NGED-110191-11       1\n",
       "NGED-110191-21       1\n",
       "NGED-110191-22       1\n",
       "NGED-110191-31       1\n",
       "                    ..\n",
       "NGED-110362-31       1\n",
       "NGED-110362-21       1\n",
       "NGED-110362-11       1\n",
       "NGED-110360-41       1\n",
       "NGED-110360-31       1\n",
       "Name: count, Length: 83087, dtype: int64"
      ]
     },
     "execution_count": 11,
     "metadata": {},
     "output_type": "execute_result"
    }
   ],
   "source": [
    "df['lv_feeder_unique_id'].value_counts()"
   ]
  },
  {
   "cell_type": "code",
   "execution_count": 10,
   "id": "05410f53",
   "metadata": {},
   "outputs": [
    {
     "data": {
      "text/html": [
       "<div>\n",
       "<style scoped>\n",
       "    .dataframe tbody tr th:only-of-type {\n",
       "        vertical-align: middle;\n",
       "    }\n",
       "\n",
       "    .dataframe tbody tr th {\n",
       "        vertical-align: top;\n",
       "    }\n",
       "\n",
       "    .dataframe thead th {\n",
       "        text-align: right;\n",
       "    }\n",
       "</style>\n",
       "<table border=\"1\" class=\"dataframe\">\n",
       "  <thead>\n",
       "    <tr style=\"text-align: right;\">\n",
       "      <th></th>\n",
       "      <th>dataset_id</th>\n",
       "      <th>dno_alias</th>\n",
       "      <th>aggregated_device_count_active</th>\n",
       "      <th>total_consumption_active_import</th>\n",
       "      <th>data_collection_log_timestamp</th>\n",
       "      <th>geometry</th>\n",
       "      <th>secondary_substation_unique_id</th>\n",
       "      <th>lv_feeder_unique_id</th>\n",
       "    </tr>\n",
       "  </thead>\n",
       "  <tbody>\n",
       "    <tr>\n",
       "      <th>0</th>\n",
       "      <td>NGED_110191_11_Jul_2024</td>\n",
       "      <td>NGED</td>\n",
       "      <td>26.0</td>\n",
       "      <td>7693.0</td>\n",
       "      <td>2024-07-14 20:00:00+00:00</td>\n",
       "      <td>POINT (-2.5715 51.4262)</td>\n",
       "      <td>NGED-110191</td>\n",
       "      <td>NGED-110191-11</td>\n",
       "    </tr>\n",
       "  </tbody>\n",
       "</table>\n",
       "</div>"
      ],
      "text/plain": [
       "                dataset_id dno_alias  aggregated_device_count_active  \\\n",
       "0  NGED_110191_11_Jul_2024      NGED                            26.0   \n",
       "\n",
       "   total_consumption_active_import data_collection_log_timestamp  \\\n",
       "0                           7693.0     2024-07-14 20:00:00+00:00   \n",
       "\n",
       "                  geometry secondary_substation_unique_id lv_feeder_unique_id  \n",
       "0  POINT (-2.5715 51.4262)                    NGED-110191      NGED-110191-11  "
      ]
     },
     "execution_count": 10,
     "metadata": {},
     "output_type": "execute_result"
    }
   ],
   "source": [
    "df[df['lv_feeder_unique_id'] == 'NGED-110191-11']"
   ]
  },
  {
   "cell_type": "code",
   "execution_count": 12,
   "id": "73b85ea0",
   "metadata": {},
   "outputs": [
    {
     "data": {
      "text/plain": [
       "secondary_substation_unique_id\n",
       "SSEN-2818002020    10\n",
       "SSEN-8077001005    10\n",
       "SSEN-6112004041     9\n",
       "SSEN-0150006060     9\n",
       "SSEN-1916007240     9\n",
       "                   ..\n",
       "SSEN-8222001005     1\n",
       "SSEN-3128004150     1\n",
       "SSEN-8196001005     1\n",
       "SSEN-8187006010     1\n",
       "NGED-110840         1\n",
       "Name: count, Length: 35963, dtype: int64"
      ]
     },
     "execution_count": 12,
     "metadata": {},
     "output_type": "execute_result"
    }
   ],
   "source": [
    "df['secondary_substation_unique_id'].value_counts()"
   ]
  }
 ],
 "metadata": {
  "kernelspec": {
   "display_name": "myenv1",
   "language": "python",
   "name": "python3"
  },
  "language_info": {
   "codemirror_mode": {
    "name": "ipython",
    "version": 3
   },
   "file_extension": ".py",
   "mimetype": "text/x-python",
   "name": "python",
   "nbconvert_exporter": "python",
   "pygments_lexer": "ipython3",
   "version": "3.11.11"
  }
 },
 "nbformat": 4,
 "nbformat_minor": 5
}
