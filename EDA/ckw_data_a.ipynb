{
 "cells": [
  {
   "cell_type": "code",
   "execution_count": 1,
   "metadata": {},
   "outputs": [],
   "source": [
    "import pandas as pd\n",
    "import numpy as np"
   ]
  },
  {
   "cell_type": "code",
   "execution_count": 2,
   "metadata": {},
   "outputs": [
    {
     "data": {
      "text/html": [
       "<div>\n",
       "<style scoped>\n",
       "    .dataframe tbody tr th:only-of-type {\n",
       "        vertical-align: middle;\n",
       "    }\n",
       "\n",
       "    .dataframe tbody tr th {\n",
       "        vertical-align: top;\n",
       "    }\n",
       "\n",
       "    .dataframe thead th {\n",
       "        text-align: right;\n",
       "    }\n",
       "</style>\n",
       "<table border=\"1\" class=\"dataframe\">\n",
       "  <thead>\n",
       "    <tr style=\"text-align: right;\">\n",
       "      <th></th>\n",
       "      <th>id</th>\n",
       "      <th>timestamp</th>\n",
       "      <th>value_kwh</th>\n",
       "    </tr>\n",
       "  </thead>\n",
       "  <tbody>\n",
       "    <tr>\n",
       "      <th>0</th>\n",
       "      <td>39ceb03ed301bf2a02e05c21cf957f3b</td>\n",
       "      <td>2025-03-14T02:15:00.000Z</td>\n",
       "      <td>0.007</td>\n",
       "    </tr>\n",
       "    <tr>\n",
       "      <th>1</th>\n",
       "      <td>39ceb03ed301bf2a02e05c21cf957f3b</td>\n",
       "      <td>2025-03-16T11:15:00.000Z</td>\n",
       "      <td>0.017</td>\n",
       "    </tr>\n",
       "    <tr>\n",
       "      <th>2</th>\n",
       "      <td>39ceb03ed301bf2a02e05c21cf957f3b</td>\n",
       "      <td>2025-03-16T17:30:00.000Z</td>\n",
       "      <td>0.052</td>\n",
       "    </tr>\n",
       "    <tr>\n",
       "      <th>3</th>\n",
       "      <td>39ceb03ed301bf2a02e05c21cf957f3b</td>\n",
       "      <td>2025-03-18T18:15:00.000Z</td>\n",
       "      <td>0.057</td>\n",
       "    </tr>\n",
       "    <tr>\n",
       "      <th>4</th>\n",
       "      <td>39ceb03ed301bf2a02e05c21cf957f3b</td>\n",
       "      <td>2025-03-19T02:15:00.000Z</td>\n",
       "      <td>0.014</td>\n",
       "    </tr>\n",
       "  </tbody>\n",
       "</table>\n",
       "</div>"
      ],
      "text/plain": [
       "                                 id                 timestamp  value_kwh\n",
       "0  39ceb03ed301bf2a02e05c21cf957f3b  2025-03-14T02:15:00.000Z      0.007\n",
       "1  39ceb03ed301bf2a02e05c21cf957f3b  2025-03-16T11:15:00.000Z      0.017\n",
       "2  39ceb03ed301bf2a02e05c21cf957f3b  2025-03-16T17:30:00.000Z      0.052\n",
       "3  39ceb03ed301bf2a02e05c21cf957f3b  2025-03-18T18:15:00.000Z      0.057\n",
       "4  39ceb03ed301bf2a02e05c21cf957f3b  2025-03-19T02:15:00.000Z      0.014"
      ]
     },
     "execution_count": 2,
     "metadata": {},
     "output_type": "execute_result"
    }
   ],
   "source": [
    "df = pd.read_csv(\"C:/Users/souha/downloads/ckw_opendata_smartmeter_dataset_a_202503.csv.gz\", compression='gzip')\n",
    "df.head()\n"
   ]
  },
  {
   "cell_type": "code",
   "execution_count": 3,
   "metadata": {},
   "outputs": [
    {
     "data": {
      "text/html": [
       "<div>\n",
       "<style scoped>\n",
       "    .dataframe tbody tr th:only-of-type {\n",
       "        vertical-align: middle;\n",
       "    }\n",
       "\n",
       "    .dataframe tbody tr th {\n",
       "        vertical-align: top;\n",
       "    }\n",
       "\n",
       "    .dataframe thead th {\n",
       "        text-align: right;\n",
       "    }\n",
       "</style>\n",
       "<table border=\"1\" class=\"dataframe\">\n",
       "  <thead>\n",
       "    <tr style=\"text-align: right;\">\n",
       "      <th></th>\n",
       "      <th>id</th>\n",
       "      <th>timestamp</th>\n",
       "      <th>value_kwh</th>\n",
       "    </tr>\n",
       "  </thead>\n",
       "  <tbody>\n",
       "    <tr>\n",
       "      <th>0</th>\n",
       "      <td>39ceb03ed301bf2a02e05c21cf957f3b</td>\n",
       "      <td>2025-03-14 03:15:00+01:00</td>\n",
       "      <td>0.007</td>\n",
       "    </tr>\n",
       "    <tr>\n",
       "      <th>1</th>\n",
       "      <td>39ceb03ed301bf2a02e05c21cf957f3b</td>\n",
       "      <td>2025-03-16 12:15:00+01:00</td>\n",
       "      <td>0.017</td>\n",
       "    </tr>\n",
       "    <tr>\n",
       "      <th>2</th>\n",
       "      <td>39ceb03ed301bf2a02e05c21cf957f3b</td>\n",
       "      <td>2025-03-16 18:30:00+01:00</td>\n",
       "      <td>0.052</td>\n",
       "    </tr>\n",
       "    <tr>\n",
       "      <th>3</th>\n",
       "      <td>39ceb03ed301bf2a02e05c21cf957f3b</td>\n",
       "      <td>2025-03-18 19:15:00+01:00</td>\n",
       "      <td>0.057</td>\n",
       "    </tr>\n",
       "    <tr>\n",
       "      <th>4</th>\n",
       "      <td>39ceb03ed301bf2a02e05c21cf957f3b</td>\n",
       "      <td>2025-03-19 03:15:00+01:00</td>\n",
       "      <td>0.014</td>\n",
       "    </tr>\n",
       "  </tbody>\n",
       "</table>\n",
       "</div>"
      ],
      "text/plain": [
       "                                 id                 timestamp  value_kwh\n",
       "0  39ceb03ed301bf2a02e05c21cf957f3b 2025-03-14 03:15:00+01:00      0.007\n",
       "1  39ceb03ed301bf2a02e05c21cf957f3b 2025-03-16 12:15:00+01:00      0.017\n",
       "2  39ceb03ed301bf2a02e05c21cf957f3b 2025-03-16 18:30:00+01:00      0.052\n",
       "3  39ceb03ed301bf2a02e05c21cf957f3b 2025-03-18 19:15:00+01:00      0.057\n",
       "4  39ceb03ed301bf2a02e05c21cf957f3b 2025-03-19 03:15:00+01:00      0.014"
      ]
     },
     "execution_count": 3,
     "metadata": {},
     "output_type": "execute_result"
    }
   ],
   "source": [
    "df['timestamp'] = pd.to_datetime(df['timestamp'], utc=True)\n",
    "\n",
    "df['timestamp'] = df['timestamp'].dt.tz_convert('CET')\n",
    "df.head()"
   ]
  },
  {
   "cell_type": "code",
   "execution_count": 4,
   "metadata": {},
   "outputs": [
    {
     "data": {
      "text/plain": [
       "(286499985, 3)"
      ]
     },
     "execution_count": 4,
     "metadata": {},
     "output_type": "execute_result"
    }
   ],
   "source": [
    "df.shape"
   ]
  },
  {
   "cell_type": "code",
   "execution_count": 5,
   "metadata": {},
   "outputs": [
    {
     "data": {
      "text/html": [
       "<div>\n",
       "<style scoped>\n",
       "    .dataframe tbody tr th:only-of-type {\n",
       "        vertical-align: middle;\n",
       "    }\n",
       "\n",
       "    .dataframe tbody tr th {\n",
       "        vertical-align: top;\n",
       "    }\n",
       "\n",
       "    .dataframe thead th {\n",
       "        text-align: right;\n",
       "    }\n",
       "</style>\n",
       "<table border=\"1\" class=\"dataframe\">\n",
       "  <thead>\n",
       "    <tr style=\"text-align: right;\">\n",
       "      <th></th>\n",
       "      <th>value_kwh</th>\n",
       "    </tr>\n",
       "  </thead>\n",
       "  <tbody>\n",
       "    <tr>\n",
       "      <th>count</th>\n",
       "      <td>2.865000e+08</td>\n",
       "    </tr>\n",
       "    <tr>\n",
       "      <th>mean</th>\n",
       "      <td>1.096056e-01</td>\n",
       "    </tr>\n",
       "    <tr>\n",
       "      <th>std</th>\n",
       "      <td>2.261725e-01</td>\n",
       "    </tr>\n",
       "    <tr>\n",
       "      <th>min</th>\n",
       "      <td>0.000000e+00</td>\n",
       "    </tr>\n",
       "    <tr>\n",
       "      <th>25%</th>\n",
       "      <td>1.400000e-02</td>\n",
       "    </tr>\n",
       "    <tr>\n",
       "      <th>50%</th>\n",
       "      <td>3.500000e-02</td>\n",
       "    </tr>\n",
       "    <tr>\n",
       "      <th>75%</th>\n",
       "      <td>9.400000e-02</td>\n",
       "    </tr>\n",
       "    <tr>\n",
       "      <th>max</th>\n",
       "      <td>2.470000e+02</td>\n",
       "    </tr>\n",
       "  </tbody>\n",
       "</table>\n",
       "</div>"
      ],
      "text/plain": [
       "          value_kwh\n",
       "count  2.865000e+08\n",
       "mean   1.096056e-01\n",
       "std    2.261725e-01\n",
       "min    0.000000e+00\n",
       "25%    1.400000e-02\n",
       "50%    3.500000e-02\n",
       "75%    9.400000e-02\n",
       "max    2.470000e+02"
      ]
     },
     "execution_count": 5,
     "metadata": {},
     "output_type": "execute_result"
    }
   ],
   "source": [
    "df.describe()"
   ]
  },
  {
   "cell_type": "code",
   "execution_count": 6,
   "metadata": {},
   "outputs": [
    {
     "data": {
      "text/html": [
       "<div>\n",
       "<style scoped>\n",
       "    .dataframe tbody tr th:only-of-type {\n",
       "        vertical-align: middle;\n",
       "    }\n",
       "\n",
       "    .dataframe tbody tr th {\n",
       "        vertical-align: top;\n",
       "    }\n",
       "\n",
       "    .dataframe thead th {\n",
       "        text-align: right;\n",
       "    }\n",
       "</style>\n",
       "<table border=\"1\" class=\"dataframe\">\n",
       "  <thead>\n",
       "    <tr style=\"text-align: right;\">\n",
       "      <th></th>\n",
       "      <th>id</th>\n",
       "      <th>value_kwh</th>\n",
       "    </tr>\n",
       "    <tr>\n",
       "      <th>timestamp</th>\n",
       "      <th></th>\n",
       "      <th></th>\n",
       "    </tr>\n",
       "  </thead>\n",
       "  <tbody>\n",
       "    <tr>\n",
       "      <th>2025-03-14 03:15:00+01:00</th>\n",
       "      <td>39ceb03ed301bf2a02e05c21cf957f3b</td>\n",
       "      <td>0.007</td>\n",
       "    </tr>\n",
       "    <tr>\n",
       "      <th>2025-03-16 12:15:00+01:00</th>\n",
       "      <td>39ceb03ed301bf2a02e05c21cf957f3b</td>\n",
       "      <td>0.017</td>\n",
       "    </tr>\n",
       "    <tr>\n",
       "      <th>2025-03-16 18:30:00+01:00</th>\n",
       "      <td>39ceb03ed301bf2a02e05c21cf957f3b</td>\n",
       "      <td>0.052</td>\n",
       "    </tr>\n",
       "    <tr>\n",
       "      <th>2025-03-18 19:15:00+01:00</th>\n",
       "      <td>39ceb03ed301bf2a02e05c21cf957f3b</td>\n",
       "      <td>0.057</td>\n",
       "    </tr>\n",
       "    <tr>\n",
       "      <th>2025-03-19 03:15:00+01:00</th>\n",
       "      <td>39ceb03ed301bf2a02e05c21cf957f3b</td>\n",
       "      <td>0.014</td>\n",
       "    </tr>\n",
       "  </tbody>\n",
       "</table>\n",
       "</div>"
      ],
      "text/plain": [
       "                                                         id  value_kwh\n",
       "timestamp                                                             \n",
       "2025-03-14 03:15:00+01:00  39ceb03ed301bf2a02e05c21cf957f3b      0.007\n",
       "2025-03-16 12:15:00+01:00  39ceb03ed301bf2a02e05c21cf957f3b      0.017\n",
       "2025-03-16 18:30:00+01:00  39ceb03ed301bf2a02e05c21cf957f3b      0.052\n",
       "2025-03-18 19:15:00+01:00  39ceb03ed301bf2a02e05c21cf957f3b      0.057\n",
       "2025-03-19 03:15:00+01:00  39ceb03ed301bf2a02e05c21cf957f3b      0.014"
      ]
     },
     "execution_count": 6,
     "metadata": {},
     "output_type": "execute_result"
    }
   ],
   "source": [
    "df.set_index('timestamp', inplace=True)\n",
    "df.head()"
   ]
  },
  {
   "cell_type": "code",
   "execution_count": 7,
   "metadata": {},
   "outputs": [
    {
     "data": {
      "text/html": [
       "<div>\n",
       "<style scoped>\n",
       "    .dataframe tbody tr th:only-of-type {\n",
       "        vertical-align: middle;\n",
       "    }\n",
       "\n",
       "    .dataframe tbody tr th {\n",
       "        vertical-align: top;\n",
       "    }\n",
       "\n",
       "    .dataframe thead th {\n",
       "        text-align: right;\n",
       "    }\n",
       "</style>\n",
       "<table border=\"1\" class=\"dataframe\">\n",
       "  <thead>\n",
       "    <tr style=\"text-align: right;\">\n",
       "      <th></th>\n",
       "      <th>id</th>\n",
       "      <th>value_kwh</th>\n",
       "    </tr>\n",
       "    <tr>\n",
       "      <th>timestamp</th>\n",
       "      <th></th>\n",
       "      <th></th>\n",
       "    </tr>\n",
       "  </thead>\n",
       "  <tbody>\n",
       "    <tr>\n",
       "      <th>2025-03-01 00:00:00+01:00</th>\n",
       "      <td>0dffdb411f646814f2031d8434c881cd</td>\n",
       "      <td>0.014</td>\n",
       "    </tr>\n",
       "    <tr>\n",
       "      <th>2025-03-01 00:00:00+01:00</th>\n",
       "      <td>49f5fc54e2d4fa629ae0263fa2fb55a8</td>\n",
       "      <td>0.510</td>\n",
       "    </tr>\n",
       "    <tr>\n",
       "      <th>2025-03-01 00:00:00+01:00</th>\n",
       "      <td>eee66afc63e7af37730debeb45f42dad</td>\n",
       "      <td>0.021</td>\n",
       "    </tr>\n",
       "    <tr>\n",
       "      <th>2025-03-01 00:00:00+01:00</th>\n",
       "      <td>bb6399b0b7f5ad63ee226b367ce53dc8</td>\n",
       "      <td>0.085</td>\n",
       "    </tr>\n",
       "    <tr>\n",
       "      <th>2025-03-01 00:00:00+01:00</th>\n",
       "      <td>eb742fef7c50ee2215edda889d92f1d6</td>\n",
       "      <td>0.025</td>\n",
       "    </tr>\n",
       "  </tbody>\n",
       "</table>\n",
       "</div>"
      ],
      "text/plain": [
       "                                                         id  value_kwh\n",
       "timestamp                                                             \n",
       "2025-03-01 00:00:00+01:00  0dffdb411f646814f2031d8434c881cd      0.014\n",
       "2025-03-01 00:00:00+01:00  49f5fc54e2d4fa629ae0263fa2fb55a8      0.510\n",
       "2025-03-01 00:00:00+01:00  eee66afc63e7af37730debeb45f42dad      0.021\n",
       "2025-03-01 00:00:00+01:00  bb6399b0b7f5ad63ee226b367ce53dc8      0.085\n",
       "2025-03-01 00:00:00+01:00  eb742fef7c50ee2215edda889d92f1d6      0.025"
      ]
     },
     "execution_count": 7,
     "metadata": {},
     "output_type": "execute_result"
    }
   ],
   "source": [
    "df.sort_index(inplace=True)\n",
    "df.head()"
   ]
  },
  {
   "cell_type": "code",
   "execution_count": null,
   "metadata": {},
   "outputs": [
    {
     "name": "stdout",
     "output_type": "stream",
     "text": [
      "Summary Statistics for 'id':\n",
      "count                            286499985\n",
      "unique                              158141\n",
      "top       c2e0ea0d8fae46e5633a186ae9174f1c\n",
      "freq                                  1831\n",
      "Name: id, dtype: object \n",
      "\n",
      "Number of unique IDs: 158141 \n",
      "\n",
      "Frequency Distribution of 'id':\n",
      "id\n",
      "c2e0ea0d8fae46e5633a186ae9174f1c    1831\n",
      "3f6292a1f6ad4f60c5155bd5efa99002    1831\n",
      "a2a61f5b81aece37d35e11cd0f13f675    1831\n",
      "ab59be154af5d760bb497f3113658b4a    1831\n",
      "4e4fd6d07feb06f1fcc72df6c0425a95    1831\n",
      "                                    ... \n",
      "1bb9d79d9cbac69aceff55b3691756e4      49\n",
      "feaef093593e925de23f6a1a029dadc1      46\n",
      "5922a475bc522a5786e238c9b1264052      35\n",
      "6c7d5113b1862c162ed72a8b2fab1fec      28\n",
      "bfdd4bad77bf85afc839826f868e50b3       9\n",
      "Name: count, Length: 158141, dtype: int64 \n",
      "\n",
      "Number of missing values in 'id': 0 \n",
      "\n"
     ]
    },
    {
     "data": {
      "image/png": "[encoded data removed]",
      "text/plain": [
       "<Figure size 800x500 with 1 Axes>"
      ]
     },
     "metadata": {},
     "output_type": "display_data"
    }
   ],
   "source": [
    "import matplotlib.pyplot as plt\n",
    "\n",
    "# 1. Summary statistics of the id column\n",
    "print(\"Summary Statistics for 'id':\")\n",
    "print(df['id'].describe(), \"\\n\")\n",
    "\n",
    "# 2. Number of unique IDs\n",
    "unique_ids = df['id'].nunique()\n",
    "print(\"Number of unique IDs:\", unique_ids, \"\\n\")\n",
    "\n",
    "# 3. Frequency distribution of id values\n",
    "id_counts = df['id'].value_counts()\n",
    "print(\"Frequency Distribution of 'id':\")\n",
    "print(id_counts, \"\\n\")\n",
    "\n",
    "# 4. Check for missing values in the id column\n",
    "missing_ids = df['id'].isnull().sum()\n",
    "print(\"Number of missing values in 'id':\", missing_ids, \"\\n\")"
   ]
  },
  {
   "cell_type": "code",
   "execution_count": null,
   "metadata": {},
   "outputs": [],
   "source": [
    "df['id'].value_counts()"
   ]
  },
  {
   "cell_type": "code",
   "execution_count": null,
   "metadata": {},
   "outputs": [
    {
     "name": "stdout",
     "output_type": "stream",
     "text": [
      "Summary Statistics for 'value_kwh':\n",
      "count    2.865000e+08\n",
      "mean     1.096056e-01\n",
      "std      2.261725e-01\n",
      "min      0.000000e+00\n",
      "25%      1.400000e-02\n",
      "50%      3.500000e-02\n",
      "75%      9.400000e-02\n",
      "max      2.470000e+02\n",
      "Name: value_kwh, dtype: float64 \n",
      "\n",
      "Number of missing values in 'value_kwh': 0 \n",
      "\n"
     ]
    },
    {
     "data": {
      "image/png": "[encoded data removed]",
      "text/plain": [
       "<Figure size 800x500 with 1 Axes>"
      ]
     },
     "metadata": {},
     "output_type": "display_data"
    },
    {
     "data": {
      "image/png": "[encoded data removed]",
      "text/plain": [
       "<Figure size 800x500 with 1 Axes>"
      ]
     },
     "metadata": {},
     "output_type": "display_data"
    }
   ],
   "source": [
    "# 1. Summary statistics of the value_kwh column\n",
    "print(\"Summary Statistics for 'value_kwh':\")\n",
    "print(df['value_kwh'].describe(), \"\\n\")\n",
    "\n",
    "# 2. Check for missing values in the value_kwh column\n",
    "missing_value_kwh = df['value_kwh'].isnull().sum()\n",
    "print(\"Number of missing values in 'value_kwh':\", missing_value_kwh, \"\\n\")\n",
    "\n",
    "# 3. Histogram of the value_kwh column\n",
    "plt.figure(figsize=(8, 5))\n",
    "plt.hist(df['value_kwh'], bins=10, edgecolor='k', alpha=0.7)\n",
    "plt.title(\"Histogram of 'value_kwh'\")\n",
    "plt.xlabel(\"value_kwh\")\n",
    "plt.ylabel(\"Frequency\")\n",
    "plt.show()\n",
    "\n",
    "# 4. Boxplot for the value_kwh column (helps in detecting outliers)\n",
    "plt.figure(figsize=(8, 5))\n",
    "plt.boxplot(df['value_kwh'], vert=False)\n",
    "plt.title(\"Boxplot of 'value_kwh'\")\n",
    "plt.xlabel(\"value_kwh\")\n",
    "plt.show()"
   ]
  },
  {
   "cell_type": "code",
   "execution_count": 24,
   "metadata": {},
   "outputs": [
    {
     "name": "stdout",
     "output_type": "stream",
     "text": [
      "5.10.4\n"
     ]
    }
   ],
   "source": [
    "import nbformat\n",
    "print(nbformat.__version__)"
   ]
  },
  {
   "cell_type": "code",
   "execution_count": 38,
   "metadata": {},
   "outputs": [],
   "source": [
    "import plotly.graph_objects as go\n",
    "\n",
    "# Aggregate the data into histogram bins (for all customers)\n",
    "hist, bin_edges = np.histogram(df['value_kwh'], bins=10000)\n",
    "\n",
    "# Create a bar chart using the aggregated data and set the marker color to #204251\n",
    "fig = go.Figure(\n",
    "    data=[go.Bar(x=bin_edges[:-1], y=hist, width=np.diff(bin_edges), marker_color='#204251')]\n",
    ")\n",
    "\n",
    "fig.update_layout(\n",
    "    title='Histogram of value_kwh',\n",
    "    xaxis_title='Value (kWh)',\n",
    "    yaxis_title='Frequency'\n",
    ")\n",
    "\n",
    "fig.show(renderer='browser')"
   ]
  },
  {
   "cell_type": "code",
   "execution_count": 45,
   "metadata": {},
   "outputs": [],
   "source": [
    "import plotly.graph_objects as go\n",
    "\n",
    "# Sample a subset of the data (adjust n to a suitable size)\n",
    "sample_df = df['value_kwh'].sample(n=1000000, random_state=42)\n",
    "\n",
    "# Create a box plot for the sampled value_kwh column with the specified color\n",
    "fig = go.Figure(\n",
    "    data=[go.Box(y=sample_df, marker_color='#204251')]\n",
    ")\n",
    "\n",
    "fig.update_layout(\n",
    "    title='Box Plot of value_kwh (Sampled)',\n",
    "    yaxis_title='Value (kWh)'\n",
    ")\n",
    "\n",
    "fig.show(renderer='browser')\n"
   ]
  },
  {
   "cell_type": "code",
   "execution_count": 34,
   "metadata": {},
   "outputs": [],
   "source": [
    "import plotly.express as px\n",
    "\n",
    "# Filter for a specific id\n",
    "selected_id = \"ab59be154af5d760bb497f3113658b4a\"\n",
    "df_filtered = df[df['id'] == selected_id].sort_index()\n",
    "\n",
    "# Plot the time series where the index is the timestamp\n",
    "fig = px.line(\n",
    "    df_filtered,\n",
    "    x=df_filtered.index,  # Using the DateTimeIndex\n",
    "    y='value_kwh',\n",
    "    title=f\"Time Series of kWh for ID {selected_id}\",\n",
    "    labels={'x': 'Timestamp', 'value_kwh': 'Energy Consumption (kWh)'},\n",
    "    color_discrete_sequence=['#204251']\n",
    ")\n",
    "fig.show(renderer='browser')\n",
    "\n"
   ]
  },
  {
   "cell_type": "code",
   "execution_count": null,
   "metadata": {},
   "outputs": [],
   "source": []
  }
 ],
 "metadata": {
  "kernelspec": {
   "display_name": "myenv1",
   "language": "python",
   "name": "python3"
  },
  "language_info": {
   "codemirror_mode": {
    "name": "ipython",
    "version": 3
   },
   "file_extension": ".py",
   "mimetype": "text/x-python",
   "name": "python",
   "nbconvert_exporter": "python",
   "pygments_lexer": "ipython3",
   "version": "3.11.11"
  }
 },
 "nbformat": 4,
 "nbformat_minor": 2
}
