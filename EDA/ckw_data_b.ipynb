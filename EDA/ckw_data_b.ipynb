{
 "cells": [
  {
   "cell_type": "code",
   "execution_count": 2,
   "metadata": {},
   "outputs": [],
   "source": [
    "import pandas as pd\n",
    "import numpy as np"
   ]
  },
  {
   "cell_type": "code",
   "execution_count": 3,
   "metadata": {},
   "outputs": [
    {
     "data": {
      "text/html": [
       "<div>\n",
       "<style scoped>\n",
       "    .dataframe tbody tr th:only-of-type {\n",
       "        vertical-align: middle;\n",
       "    }\n",
       "\n",
       "    .dataframe tbody tr th {\n",
       "        vertical-align: top;\n",
       "    }\n",
       "\n",
       "    .dataframe thead th {\n",
       "        text-align: right;\n",
       "    }\n",
       "</style>\n",
       "<table border=\"1\" class=\"dataframe\">\n",
       "  <thead>\n",
       "    <tr style=\"text-align: right;\">\n",
       "      <th></th>\n",
       "      <th>area_code</th>\n",
       "      <th>timestamp</th>\n",
       "      <th>num_meter</th>\n",
       "      <th>value_kwh</th>\n",
       "    </tr>\n",
       "  </thead>\n",
       "  <tbody>\n",
       "    <tr>\n",
       "      <th>0</th>\n",
       "      <td>6026</td>\n",
       "      <td>2025-02-28T23:00:00.000Z</td>\n",
       "      <td>1398</td>\n",
       "      <td>222.426</td>\n",
       "    </tr>\n",
       "    <tr>\n",
       "      <th>1</th>\n",
       "      <td>6026</td>\n",
       "      <td>2025-02-28T23:15:00.000Z</td>\n",
       "      <td>1398</td>\n",
       "      <td>228.109</td>\n",
       "    </tr>\n",
       "    <tr>\n",
       "      <th>2</th>\n",
       "      <td>6026</td>\n",
       "      <td>2025-02-28T23:30:00.000Z</td>\n",
       "      <td>1398</td>\n",
       "      <td>247.094</td>\n",
       "    </tr>\n",
       "    <tr>\n",
       "      <th>3</th>\n",
       "      <td>6026</td>\n",
       "      <td>2025-02-28T23:45:00.000Z</td>\n",
       "      <td>1398</td>\n",
       "      <td>257.829</td>\n",
       "    </tr>\n",
       "    <tr>\n",
       "      <th>4</th>\n",
       "      <td>6026</td>\n",
       "      <td>2025-03-01T00:00:00.000Z</td>\n",
       "      <td>1398</td>\n",
       "      <td>264.800</td>\n",
       "    </tr>\n",
       "  </tbody>\n",
       "</table>\n",
       "</div>"
      ],
      "text/plain": [
       "   area_code                 timestamp  num_meter  value_kwh\n",
       "0       6026  2025-02-28T23:00:00.000Z       1398    222.426\n",
       "1       6026  2025-02-28T23:15:00.000Z       1398    228.109\n",
       "2       6026  2025-02-28T23:30:00.000Z       1398    247.094\n",
       "3       6026  2025-02-28T23:45:00.000Z       1398    257.829\n",
       "4       6026  2025-03-01T00:00:00.000Z       1398    264.800"
      ]
     },
     "execution_count": 3,
     "metadata": {},
     "output_type": "execute_result"
    }
   ],
   "source": [
    "df = pd.read_csv(\"C:/Users/souha/downloads/ckw_opendata_smartmeter_dataset_b_202503.csv.gz\", compression='gzip')\n",
    "df.head()\n"
   ]
  },
  {
   "cell_type": "code",
   "execution_count": 4,
   "metadata": {},
   "outputs": [
    {
     "data": {
      "text/html": [
       "<div>\n",
       "<style scoped>\n",
       "    .dataframe tbody tr th:only-of-type {\n",
       "        vertical-align: middle;\n",
       "    }\n",
       "\n",
       "    .dataframe tbody tr th {\n",
       "        vertical-align: top;\n",
       "    }\n",
       "\n",
       "    .dataframe thead th {\n",
       "        text-align: right;\n",
       "    }\n",
       "</style>\n",
       "<table border=\"1\" class=\"dataframe\">\n",
       "  <thead>\n",
       "    <tr style=\"text-align: right;\">\n",
       "      <th></th>\n",
       "      <th>area_code</th>\n",
       "      <th>timestamp</th>\n",
       "      <th>num_meter</th>\n",
       "      <th>value_kwh</th>\n",
       "    </tr>\n",
       "  </thead>\n",
       "  <tbody>\n",
       "    <tr>\n",
       "      <th>0</th>\n",
       "      <td>6026</td>\n",
       "      <td>2025-03-01 00:00:00+01:00</td>\n",
       "      <td>1398</td>\n",
       "      <td>222.426</td>\n",
       "    </tr>\n",
       "    <tr>\n",
       "      <th>1</th>\n",
       "      <td>6026</td>\n",
       "      <td>2025-03-01 00:15:00+01:00</td>\n",
       "      <td>1398</td>\n",
       "      <td>228.109</td>\n",
       "    </tr>\n",
       "    <tr>\n",
       "      <th>2</th>\n",
       "      <td>6026</td>\n",
       "      <td>2025-03-01 00:30:00+01:00</td>\n",
       "      <td>1398</td>\n",
       "      <td>247.094</td>\n",
       "    </tr>\n",
       "    <tr>\n",
       "      <th>3</th>\n",
       "      <td>6026</td>\n",
       "      <td>2025-03-01 00:45:00+01:00</td>\n",
       "      <td>1398</td>\n",
       "      <td>257.829</td>\n",
       "    </tr>\n",
       "    <tr>\n",
       "      <th>4</th>\n",
       "      <td>6026</td>\n",
       "      <td>2025-03-01 01:00:00+01:00</td>\n",
       "      <td>1398</td>\n",
       "      <td>264.800</td>\n",
       "    </tr>\n",
       "  </tbody>\n",
       "</table>\n",
       "</div>"
      ],
      "text/plain": [
       "   area_code                 timestamp  num_meter  value_kwh\n",
       "0       6026 2025-03-01 00:00:00+01:00       1398    222.426\n",
       "1       6026 2025-03-01 00:15:00+01:00       1398    228.109\n",
       "2       6026 2025-03-01 00:30:00+01:00       1398    247.094\n",
       "3       6026 2025-03-01 00:45:00+01:00       1398    257.829\n",
       "4       6026 2025-03-01 01:00:00+01:00       1398    264.800"
      ]
     },
     "execution_count": 4,
     "metadata": {},
     "output_type": "execute_result"
    }
   ],
   "source": [
    "df['timestamp'] = pd.to_datetime(df['timestamp'], utc=True)\n",
    "\n",
    "df['timestamp'] = df['timestamp'].dt.tz_convert('CET')\n",
    "df.head()"
   ]
  },
  {
   "cell_type": "code",
   "execution_count": 5,
   "metadata": {},
   "outputs": [
    {
     "data": {
      "text/plain": [
       "(211626, 4)"
      ]
     },
     "execution_count": 5,
     "metadata": {},
     "output_type": "execute_result"
    }
   ],
   "source": [
    "df.shape"
   ]
  },
  {
   "cell_type": "code",
   "execution_count": 6,
   "metadata": {},
   "outputs": [
    {
     "data": {
      "text/html": [
       "<div>\n",
       "<style scoped>\n",
       "    .dataframe tbody tr th:only-of-type {\n",
       "        vertical-align: middle;\n",
       "    }\n",
       "\n",
       "    .dataframe tbody tr th {\n",
       "        vertical-align: top;\n",
       "    }\n",
       "\n",
       "    .dataframe thead th {\n",
       "        text-align: right;\n",
       "    }\n",
       "</style>\n",
       "<table border=\"1\" class=\"dataframe\">\n",
       "  <thead>\n",
       "    <tr style=\"text-align: right;\">\n",
       "      <th></th>\n",
       "      <th>area_code</th>\n",
       "      <th>num_meter</th>\n",
       "      <th>value_kwh</th>\n",
       "    </tr>\n",
       "  </thead>\n",
       "  <tbody>\n",
       "    <tr>\n",
       "      <th>count</th>\n",
       "      <td>211626.000000</td>\n",
       "      <td>211626.000000</td>\n",
       "      <td>211626.000000</td>\n",
       "    </tr>\n",
       "    <tr>\n",
       "      <th>mean</th>\n",
       "      <td>6135.108337</td>\n",
       "      <td>1353.364360</td>\n",
       "      <td>148.359873</td>\n",
       "    </tr>\n",
       "    <tr>\n",
       "      <th>std</th>\n",
       "      <td>196.793921</td>\n",
       "      <td>1844.700341</td>\n",
       "      <td>172.488742</td>\n",
       "    </tr>\n",
       "    <tr>\n",
       "      <th>min</th>\n",
       "      <td>4806.000000</td>\n",
       "      <td>11.000000</td>\n",
       "      <td>0.000000</td>\n",
       "    </tr>\n",
       "    <tr>\n",
       "      <th>25%</th>\n",
       "      <td>6044.000000</td>\n",
       "      <td>379.000000</td>\n",
       "      <td>41.816250</td>\n",
       "    </tr>\n",
       "    <tr>\n",
       "      <th>50%</th>\n",
       "      <td>6173.000000</td>\n",
       "      <td>760.000000</td>\n",
       "      <td>90.710500</td>\n",
       "    </tr>\n",
       "    <tr>\n",
       "      <th>75%</th>\n",
       "      <td>6236.000000</td>\n",
       "      <td>1509.000000</td>\n",
       "      <td>191.318250</td>\n",
       "    </tr>\n",
       "    <tr>\n",
       "      <th>max</th>\n",
       "      <td>6344.000000</td>\n",
       "      <td>12701.000000</td>\n",
       "      <td>1674.002000</td>\n",
       "    </tr>\n",
       "  </tbody>\n",
       "</table>\n",
       "</div>"
      ],
      "text/plain": [
       "           area_code      num_meter      value_kwh\n",
       "count  211626.000000  211626.000000  211626.000000\n",
       "mean     6135.108337    1353.364360     148.359873\n",
       "std       196.793921    1844.700341     172.488742\n",
       "min      4806.000000      11.000000       0.000000\n",
       "25%      6044.000000     379.000000      41.816250\n",
       "50%      6173.000000     760.000000      90.710500\n",
       "75%      6236.000000    1509.000000     191.318250\n",
       "max      6344.000000   12701.000000    1674.002000"
      ]
     },
     "execution_count": 6,
     "metadata": {},
     "output_type": "execute_result"
    }
   ],
   "source": [
    "df.describe()"
   ]
  },
  {
   "cell_type": "code",
   "execution_count": 7,
   "metadata": {},
   "outputs": [
    {
     "data": {
      "text/html": [
       "<div>\n",
       "<style scoped>\n",
       "    .dataframe tbody tr th:only-of-type {\n",
       "        vertical-align: middle;\n",
       "    }\n",
       "\n",
       "    .dataframe tbody tr th {\n",
       "        vertical-align: top;\n",
       "    }\n",
       "\n",
       "    .dataframe thead th {\n",
       "        text-align: right;\n",
       "    }\n",
       "</style>\n",
       "<table border=\"1\" class=\"dataframe\">\n",
       "  <thead>\n",
       "    <tr style=\"text-align: right;\">\n",
       "      <th></th>\n",
       "      <th>area_code</th>\n",
       "      <th>num_meter</th>\n",
       "      <th>value_kwh</th>\n",
       "    </tr>\n",
       "    <tr>\n",
       "      <th>timestamp</th>\n",
       "      <th></th>\n",
       "      <th></th>\n",
       "      <th></th>\n",
       "    </tr>\n",
       "  </thead>\n",
       "  <tbody>\n",
       "    <tr>\n",
       "      <th>2025-03-01 00:00:00+01:00</th>\n",
       "      <td>6026</td>\n",
       "      <td>1398</td>\n",
       "      <td>222.426</td>\n",
       "    </tr>\n",
       "    <tr>\n",
       "      <th>2025-03-01 00:15:00+01:00</th>\n",
       "      <td>6026</td>\n",
       "      <td>1398</td>\n",
       "      <td>228.109</td>\n",
       "    </tr>\n",
       "    <tr>\n",
       "      <th>2025-03-01 00:30:00+01:00</th>\n",
       "      <td>6026</td>\n",
       "      <td>1398</td>\n",
       "      <td>247.094</td>\n",
       "    </tr>\n",
       "    <tr>\n",
       "      <th>2025-03-01 00:45:00+01:00</th>\n",
       "      <td>6026</td>\n",
       "      <td>1398</td>\n",
       "      <td>257.829</td>\n",
       "    </tr>\n",
       "    <tr>\n",
       "      <th>2025-03-01 01:00:00+01:00</th>\n",
       "      <td>6026</td>\n",
       "      <td>1398</td>\n",
       "      <td>264.800</td>\n",
       "    </tr>\n",
       "  </tbody>\n",
       "</table>\n",
       "</div>"
      ],
      "text/plain": [
       "                           area_code  num_meter  value_kwh\n",
       "timestamp                                                 \n",
       "2025-03-01 00:00:00+01:00       6026       1398    222.426\n",
       "2025-03-01 00:15:00+01:00       6026       1398    228.109\n",
       "2025-03-01 00:30:00+01:00       6026       1398    247.094\n",
       "2025-03-01 00:45:00+01:00       6026       1398    257.829\n",
       "2025-03-01 01:00:00+01:00       6026       1398    264.800"
      ]
     },
     "execution_count": 7,
     "metadata": {},
     "output_type": "execute_result"
    }
   ],
   "source": [
    "df.set_index('timestamp', inplace=True)\n",
    "df.head()"
   ]
  },
  {
   "cell_type": "code",
   "execution_count": 8,
   "metadata": {},
   "outputs": [
    {
     "data": {
      "text/html": [
       "<div>\n",
       "<style scoped>\n",
       "    .dataframe tbody tr th:only-of-type {\n",
       "        vertical-align: middle;\n",
       "    }\n",
       "\n",
       "    .dataframe tbody tr th {\n",
       "        vertical-align: top;\n",
       "    }\n",
       "\n",
       "    .dataframe thead th {\n",
       "        text-align: right;\n",
       "    }\n",
       "</style>\n",
       "<table border=\"1\" class=\"dataframe\">\n",
       "  <thead>\n",
       "    <tr style=\"text-align: right;\">\n",
       "      <th></th>\n",
       "      <th>area_code</th>\n",
       "      <th>num_meter</th>\n",
       "      <th>value_kwh</th>\n",
       "    </tr>\n",
       "    <tr>\n",
       "      <th>timestamp</th>\n",
       "      <th></th>\n",
       "      <th></th>\n",
       "      <th></th>\n",
       "    </tr>\n",
       "  </thead>\n",
       "  <tbody>\n",
       "    <tr>\n",
       "      <th>2025-03-01 00:00:00+01:00</th>\n",
       "      <td>6026</td>\n",
       "      <td>1398</td>\n",
       "      <td>222.426</td>\n",
       "    </tr>\n",
       "    <tr>\n",
       "      <th>2025-03-01 00:00:00+01:00</th>\n",
       "      <td>6247</td>\n",
       "      <td>2236</td>\n",
       "      <td>327.614</td>\n",
       "    </tr>\n",
       "    <tr>\n",
       "      <th>2025-03-01 00:00:00+01:00</th>\n",
       "      <td>6214</td>\n",
       "      <td>1529</td>\n",
       "      <td>244.190</td>\n",
       "    </tr>\n",
       "    <tr>\n",
       "      <th>2025-03-01 00:00:00+01:00</th>\n",
       "      <td>6206</td>\n",
       "      <td>2225</td>\n",
       "      <td>302.330</td>\n",
       "    </tr>\n",
       "    <tr>\n",
       "      <th>2025-03-01 00:00:00+01:00</th>\n",
       "      <td>6203</td>\n",
       "      <td>820</td>\n",
       "      <td>115.490</td>\n",
       "    </tr>\n",
       "  </tbody>\n",
       "</table>\n",
       "</div>"
      ],
      "text/plain": [
       "                           area_code  num_meter  value_kwh\n",
       "timestamp                                                 \n",
       "2025-03-01 00:00:00+01:00       6026       1398    222.426\n",
       "2025-03-01 00:00:00+01:00       6247       2236    327.614\n",
       "2025-03-01 00:00:00+01:00       6214       1529    244.190\n",
       "2025-03-01 00:00:00+01:00       6206       2225    302.330\n",
       "2025-03-01 00:00:00+01:00       6203        820    115.490"
      ]
     },
     "execution_count": 8,
     "metadata": {},
     "output_type": "execute_result"
    }
   ],
   "source": [
    "df.sort_index(inplace=True)\n",
    "df.head()"
   ]
  },
  {
   "cell_type": "code",
   "execution_count": 9,
   "metadata": {},
   "outputs": [
    {
     "name": "stdout",
     "output_type": "stream",
     "text": [
      "Number of unique area codes: 116 \n",
      "\n",
      "Frequency Distribution of 'area code':\n",
      "area_code\n",
      "6182    1831\n",
      "6174    1831\n",
      "6196    1830\n",
      "6192    1830\n",
      "6023    1830\n",
      "        ... \n",
      "6263    1824\n",
      "6276    1824\n",
      "6295    1824\n",
      "6285    1824\n",
      "6264    1824\n",
      "Name: count, Length: 116, dtype: int64 \n",
      "\n",
      "Number of missing values in 'area code': 0 \n",
      "\n"
     ]
    }
   ],
   "source": [
    "# Number of unique area codes\n",
    "unique_area_codes = df['area_code'].nunique()\n",
    "print(\"Number of unique area codes:\", unique_area_codes, \"\\n\")\n",
    "\n",
    "# Frequency distribution of area codes values\n",
    "area_codes_counts = df['area_code'].value_counts()\n",
    "print(\"Frequency Distribution of 'area code':\")\n",
    "print(area_codes_counts, \"\\n\")\n",
    "\n",
    "# Check for missing values in the area codes column\n",
    "missing_area_codes = df['area_code'].isnull().sum()\n",
    "print(\"Number of missing values in 'area code':\", missing_area_codes, \"\\n\")"
   ]
  },
  {
   "cell_type": "code",
   "execution_count": 11,
   "metadata": {},
   "outputs": [
    {
     "name": "stdout",
     "output_type": "stream",
     "text": [
      "Number of unique num_meter: 1439 \n",
      "\n",
      "Number of missing values in 'num_meter': 0 \n",
      "\n"
     ]
    }
   ],
   "source": [
    "# Number of unique num_meter s\n",
    "unique_num_meter = df['num_meter'].nunique()\n",
    "print(\"Number of unique num_meter:\", unique_num_meter, \"\\n\")\n",
    "\n",
    "# Check for missing values in the num_meter column\n",
    "missing_num_meter = df['num_meter'].isnull().sum()\n",
    "print(\"Number of missing values in 'num_meter':\", missing_num_meter, \"\\n\")"
   ]
  },
  {
   "cell_type": "code",
   "execution_count": 12,
   "metadata": {},
   "outputs": [
    {
     "name": "stdout",
     "output_type": "stream",
     "text": [
      "Number of missing values in 'value_kwh': 0 \n",
      "\n"
     ]
    }
   ],
   "source": [
    "# Check for missing values in the value_kwh column\n",
    "missing_value_kwh = df['value_kwh'].isnull().sum()\n",
    "print(\"Number of missing values in 'value_kwh':\", missing_value_kwh, \"\\n\")"
   ]
  },
  {
   "cell_type": "code",
   "execution_count": 14,
   "metadata": {},
   "outputs": [],
   "source": [
    "import plotly.graph_objects as go\n",
    "\n",
    "# Aggregate the data into histogram bins (for all area codes)\n",
    "hist, bin_edges = np.histogram(df['value_kwh'], bins=100)\n",
    "\n",
    "# Create a bar chart using the aggregated data and set the marker color to #204251\n",
    "fig = go.Figure(\n",
    "    data=[go.Bar(x=bin_edges[:-1], y=hist, width=np.diff(bin_edges), marker_color='#204251')]\n",
    ")\n",
    "\n",
    "fig.update_layout(\n",
    "    title='Histogram of value_kwh in dataset b',\n",
    "    xaxis_title='Value (kWh)',\n",
    "    yaxis_title='Frequency'\n",
    ")\n",
    "\n",
    "fig.show(renderer='browser')"
   ]
  },
  {
   "cell_type": "code",
   "execution_count": 15,
   "metadata": {},
   "outputs": [],
   "source": [
    "import plotly.graph_objects as go\n",
    "\n",
    "# Create a box plot for the sampled value_kwh column with the specified color\n",
    "fig = go.Figure(\n",
    "    data=[go.Box(y=df, marker_color='#204251')]\n",
    ")\n",
    "\n",
    "fig.update_layout(\n",
    "    title='Box Plot of value_kwh (Sampled)',\n",
    "    yaxis_title='Value (kWh)'\n",
    ")\n",
    "\n",
    "fig.show(renderer='browser')\n"
   ]
  },
  {
   "cell_type": "code",
   "execution_count": 20,
   "metadata": {},
   "outputs": [],
   "source": [
    "import plotly.express as px\n",
    "\n",
    "# Filter for a specific area code\n",
    "selected_area_code = 6264\n",
    "df_filtered = df[df['area_code'] == selected_area_code].sort_index()\n",
    "\n",
    "# Plot the time series where the index is the timestamp\n",
    "fig = px.line(\n",
    "    df_filtered,\n",
    "    x=df_filtered.index,  # Using the DateTimeIndex\n",
    "    y='value_kwh',\n",
    "    title=f\"Time Series of kWh for area_code {selected_area_code}\",\n",
    "    labels={'x': 'Timestamp', 'value_kwh': 'Energy Consumption (kWh)'},\n",
    "    color_discrete_sequence=['#204251']\n",
    ")\n",
    "fig.show(renderer='browser')\n",
    "\n"
   ]
  },
  {
   "cell_type": "code",
   "execution_count": null,
   "metadata": {},
   "outputs": [],
   "source": []
  }
 ],
 "metadata": {
  "kernelspec": {
   "display_name": "myenv1",
   "language": "python",
   "name": "python3"
  },
  "language_info": {
   "codemirror_mode": {
    "name": "ipython",
    "version": 3
   },
   "file_extension": ".py",
   "mimetype": "text/x-python",
   "name": "python",
   "nbconvert_exporter": "python",
   "pygments_lexer": "ipython3",
   "version": "3.11.11"
  }
 },
 "nbformat": 4,
 "nbformat_minor": 2
}
